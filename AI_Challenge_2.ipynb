{
  "cells": [
    {
      "cell_type": "markdown",
      "metadata": {
        "id": "view-in-github",
        "colab_type": "text"
      },
      "source": [
        "<a href=\"https://colab.research.google.com/github/alwaysneedhelp/AI-Challenge/blob/main/AI_Challenge_2.ipynb\" target=\"_parent\"><img src=\"https://colab.research.google.com/assets/colab-badge.svg\" alt=\"Open In Colab\"/></a>"
      ]
    },
    {
      "cell_type": "code",
      "execution_count": null,
      "metadata": {
        "collapsed": true,
        "id": "-gyUtemFhZxn",
        "colab": {
          "base_uri": "https://localhost:8080/"
        },
        "outputId": "59df9ce8-17af-4de3-8763-ca46134bc6b4"
      },
      "outputs": [
        {
          "output_type": "stream",
          "name": "stdout",
          "text": [
            "Drive already mounted at /content/drive; to attempt to forcibly remount, call drive.mount(\"/content/drive\", force_remount=True).\n"
          ]
        }
      ],
      "source": [
        "from lightgbm import LGBMRegressor\n",
        "from sklearn.model_selection import cross_val_score, KFold, train_test_split, GridSearchCV\n",
        "import numpy as np\n",
        "import pandas as pd\n",
        "from sklearn.preprocessing import StandardScaler\n",
        "import seaborn as sns\n",
        "import matplotlib.pyplot as plt\n",
        "import math\n",
        "from sklearn.decomposition import PCA\n",
        "from sklearn.metrics import make_scorer, mean_absolute_percentage_error\n",
        "from google.colab import drive\n",
        "drive.mount('/content/drive')"
      ]
    },
    {
      "cell_type": "code",
      "execution_count": null,
      "metadata": {
        "id": "BzydAYV1yIBU"
      },
      "outputs": [],
      "source": [
        "model = LGBMRegressor(\n",
        "    random_state=42,\n",
        "    min_child_samples=1,\n",
        "    min_split_gain=0.05,\n",
        "    min_data_in_bin=1,\n",
        "    max_bin=511\n",
        ")\n",
        "\n",
        "\n",
        "df = pd.read_csv('/content/drive/MyDrive/train_AI_challenge_2.csv')"
      ]
    },
    {
      "cell_type": "code",
      "execution_count": null,
      "metadata": {
        "id": "T1PJ9unlyV34"
      },
      "outputs": [],
      "source": [
        "def mape_points(y_true, y_pred):\n",
        "    y_safe = np.where(y_true==0, 1e-6, y_true)\n",
        "    return mean_absolute_percentage_error(y_safe, y_pred)\n",
        "custom_scorer = make_scorer(mape_points, greater_is_better=True)"
      ]
    },
    {
      "cell_type": "code",
      "execution_count": null,
      "metadata": {
        "id": "fPLR-ju9m7-N"
      },
      "outputs": [],
      "source": [
        "param_grid = {\n",
        "    \"num_leaves\": [15, 20, 63],\n",
        "    \"learning_rate\": [0.01, 0.05, 0.1],\n",
        "    \"n_estimators\": [100, 300, 500],\n",
        "}\n",
        "\n",
        "grid = GridSearchCV(\n",
        "    estimator=model,\n",
        "    param_grid=param_grid,\n",
        "    cv=5,\n",
        "    scoring=custom_scorer,\n",
        "    n_jobs=-1,\n",
        "    verbose=1,\n",
        ")"
      ]
    },
    {
      "cell_type": "code",
      "execution_count": null,
      "metadata": {
        "id": "BeC212nLzrKj"
      },
      "outputs": [],
      "source": [
        "x = df.drop(columns=['id', 'cell_id', 'cycle_life'])\n",
        "y = df['cycle_life']"
      ]
    },
    {
      "cell_type": "code",
      "execution_count": null,
      "metadata": {
        "id": "HNbJGAkG2q67"
      },
      "outputs": [],
      "source": [
        "def preprocess(x):\n",
        "\n",
        "\n",
        "  # Scale all this\n",
        "  scaler = StandardScaler()\n",
        "  x = pd.DataFrame(scaler.fit_transform(x),\n",
        "                    columns=x.columns)\n",
        "\n",
        "\n",
        "  # First of all, we should process all 0s, or values that are very close to 0\n",
        "  def process_0s(df):\n",
        "    for col in df.columns:\n",
        "        non_zero = df.loc[df[col].abs() > 1e-8, col]   # keep only \"real\" non-zeros\n",
        "        col_mean = non_zero.mean()\n",
        "        df.loc[df[col].abs() <= 1e-8, col] = col_mean\n",
        "\n",
        "    return df\n",
        "\n",
        "  x = process_0s(x)\n",
        "\n",
        "  # Then remove all constant or near constant values, to reduce repetitive values\n",
        "  const = [c for c in x.columns if x[c].nunique() <= 1]\n",
        "  nearconst = [c for c in x.columns if (x[c].value_counts(normalize=True).iloc[0] > 0.98)]\n",
        "  x = x.drop(columns=list(set(const+nearconst)))\n",
        "\n",
        "\n",
        "  # Then drop highly correlated features to confuse the model less\n",
        "  corr = x.corr().abs()\n",
        "  upper = corr.where(np.triu(np.ones(corr.shape), k=1).astype(bool))\n",
        "  to_drop = [col for col in upper.columns if any(upper[col] > 0.9)]\n",
        "  x = x.drop(columns=to_drop)\n",
        "\n",
        "\n",
        "  # Adding new features for non-linearity\n",
        "  for col in x.columns:\n",
        "    if (x[col] >= 0).all():\n",
        "        x[col+\"_sqrt\"] = np.sqrt(x[col])\n",
        "        x[col+\"_log\"] = np.log1p(x[col])\n",
        "    x[col+\"_sq\"] = x[col] ** 2\n",
        "    x[col+\"_inv\"] = np.where(x[col].abs() > 1e-8, 1/x[col], 0)\n",
        "\n",
        "  # Apply PCA to have a summary consisting of 15 features\n",
        "  pca = PCA(n_components=15, random_state=42)\n",
        "  x = pca.fit_transform(x)\n",
        "  x = pd.DataFrame(\n",
        "      x,\n",
        "      columns=[f'PCA_{i+1}' for i in range(x.shape[1])]\n",
        "  )\n",
        "\n",
        "  return x\n",
        "x = preprocess(x)"
      ]
    },
    {
      "cell_type": "code",
      "source": [
        "x_train, x_test, y_train, y_test = train_test_split(\n",
        "    x, y, test_size=0.2, random_state=42\n",
        ")"
      ],
      "metadata": {
        "id": "qHWa9ZH9rjF2"
      },
      "execution_count": null,
      "outputs": []
    },
    {
      "cell_type": "code",
      "source": [
        "grid.fit(x_train, y_train)\n",
        "\n",
        "model = grid.best_estimator_\n",
        "\n",
        "y_pred = model.predict(x_test)"
      ],
      "metadata": {
        "colab": {
          "base_uri": "https://localhost:8080/"
        },
        "id": "ehtpQN1Odt8s",
        "outputId": "3bbcbd34-cef8-4aab-d67d-1c72337134c8"
      },
      "execution_count": null,
      "outputs": [
        {
          "output_type": "stream",
          "name": "stdout",
          "text": [
            "Fitting 5 folds for each of 27 candidates, totalling 135 fits\n",
            "[LightGBM] [Info] Auto-choosing col-wise multi-threading, the overhead of testing was 0.000043 seconds.\n",
            "You can set `force_col_wise=true` to remove the overhead.\n",
            "[LightGBM] [Info] Total Bins 345\n",
            "[LightGBM] [Info] Number of data points in the train set: 22, number of used features: 15\n",
            "[LightGBM] [Info] Start training from score 187.090909\n"
          ]
        }
      ]
    },
    {
      "cell_type": "code",
      "source": [
        "np.mean(np.abs((y_train - model.predict(x_train)) / np.where(y_train == 0, 1e-6, y_train))) * 100"
      ],
      "metadata": {
        "colab": {
          "base_uri": "https://localhost:8080/"
        },
        "id": "kK7ncPXBCumz",
        "outputId": "cf6266b7-0cfe-405a-f9c1-7f58ffc46f31"
      },
      "execution_count": null,
      "outputs": [
        {
          "output_type": "execute_result",
          "data": {
            "text/plain": [
              "np.float64(100.44339106647904)"
            ]
          },
          "metadata": {},
          "execution_count": 165
        }
      ]
    },
    {
      "cell_type": "code",
      "source": [
        "y_test"
      ],
      "metadata": {
        "colab": {
          "base_uri": "https://localhost:8080/",
          "height": 273
        },
        "id": "AenEU_f6txNM",
        "outputId": "ca5fd601-bf30-4f6b-eebe-fdfb849bc887"
      },
      "execution_count": null,
      "outputs": [
        {
          "output_type": "execute_result",
          "data": {
            "text/plain": [
              "9     485\n",
              "25     96\n",
              "8      79\n",
              "21     79\n",
              "0      14\n",
              "12    555\n",
              "Name: cycle_life, dtype: int64"
            ],
            "text/html": [
              "<div>\n",
              "<style scoped>\n",
              "    .dataframe tbody tr th:only-of-type {\n",
              "        vertical-align: middle;\n",
              "    }\n",
              "\n",
              "    .dataframe tbody tr th {\n",
              "        vertical-align: top;\n",
              "    }\n",
              "\n",
              "    .dataframe thead th {\n",
              "        text-align: right;\n",
              "    }\n",
              "</style>\n",
              "<table border=\"1\" class=\"dataframe\">\n",
              "  <thead>\n",
              "    <tr style=\"text-align: right;\">\n",
              "      <th></th>\n",
              "      <th>cycle_life</th>\n",
              "    </tr>\n",
              "  </thead>\n",
              "  <tbody>\n",
              "    <tr>\n",
              "      <th>9</th>\n",
              "      <td>485</td>\n",
              "    </tr>\n",
              "    <tr>\n",
              "      <th>25</th>\n",
              "      <td>96</td>\n",
              "    </tr>\n",
              "    <tr>\n",
              "      <th>8</th>\n",
              "      <td>79</td>\n",
              "    </tr>\n",
              "    <tr>\n",
              "      <th>21</th>\n",
              "      <td>79</td>\n",
              "    </tr>\n",
              "    <tr>\n",
              "      <th>0</th>\n",
              "      <td>14</td>\n",
              "    </tr>\n",
              "    <tr>\n",
              "      <th>12</th>\n",
              "      <td>555</td>\n",
              "    </tr>\n",
              "  </tbody>\n",
              "</table>\n",
              "</div><br><label><b>dtype:</b> int64</label>"
            ]
          },
          "metadata": {},
          "execution_count": 166
        }
      ]
    },
    {
      "cell_type": "code",
      "source": [
        "y_pred"
      ],
      "metadata": {
        "colab": {
          "base_uri": "https://localhost:8080/"
        },
        "id": "vlngWwmRtylY",
        "outputId": "ed7980ba-e6b9-4dce-cf5e-5ff51d16cebe"
      },
      "execution_count": null,
      "outputs": [
        {
          "output_type": "execute_result",
          "data": {
            "text/plain": [
              "array([420.33337522, 124.96508035, 375.95563787, 420.33337522,\n",
              "        99.16106548, 420.33337522])"
            ]
          },
          "metadata": {},
          "execution_count": 167
        }
      ]
    },
    {
      "cell_type": "code",
      "execution_count": null,
      "metadata": {
        "collapsed": true,
        "id": "a47BM00nwaFk"
      },
      "outputs": [],
      "source": [
        "# grid.fit(x, y)\n",
        "# model = grid.best_estimator_"
      ]
    },
    {
      "cell_type": "code",
      "execution_count": null,
      "metadata": {
        "id": "6QB0B74ibOET",
        "colab": {
          "base_uri": "https://localhost:8080/"
        },
        "outputId": "b87dd189-da11-4a0e-aced-e0b9243810a6"
      },
      "outputs": [
        {
          "output_type": "stream",
          "name": "stdout",
          "text": [
            "MAPE: 247.34%\n",
            "Points: 0.00\n"
          ]
        }
      ],
      "source": [
        "y_test_safe = np.where(y_test == 0, 1e-6, y_test)  # avoid division by 0\n",
        "mape = np.mean(np.abs((y_test - y_pred) / y_test_safe)) * 100  # in %\n",
        "\n",
        "# Convert formula (notice: divide by 0.20 means 20%)\n",
        "points = 200 * max(0, 1 - mape/20)\n",
        "\n",
        "print(f\"MAPE: {mape:.2f}%\")\n",
        "print(f\"Points: {points:.2f}\")"
      ]
    },
    {
      "cell_type": "code",
      "execution_count": null,
      "metadata": {
        "id": "YFCydWg81XTl"
      },
      "outputs": [],
      "source": [
        "\n",
        "# test = pd.read_csv(\"test-1.csv\")\n",
        "\n",
        "# x_test = preprocess(test.drop(columns=['id', 'cell_id']))\n",
        "# y_pred = model.predict(x_test)\n",
        "\n",
        "# submission = pd.DataFrame({\n",
        "#     \"id\": test[\"id\"],\n",
        "#     \"cycle_life\": y_pred\n",
        "# })\n",
        "# submission.to_csv(\"submission.csv\", index=False)"
      ]
    },
    {
      "cell_type": "code",
      "source": [],
      "metadata": {
        "id": "u_zfef5zre8E"
      },
      "execution_count": null,
      "outputs": []
    }
  ],
  "metadata": {
    "colab": {
      "provenance": [],
      "authorship_tag": "ABX9TyPZHvlj0BrT1R3r8f+U4UvP",
      "include_colab_link": true
    },
    "kernelspec": {
      "display_name": "Python 3",
      "name": "python3"
    },
    "language_info": {
      "name": "python"
    }
  },
  "nbformat": 4,
  "nbformat_minor": 0
}